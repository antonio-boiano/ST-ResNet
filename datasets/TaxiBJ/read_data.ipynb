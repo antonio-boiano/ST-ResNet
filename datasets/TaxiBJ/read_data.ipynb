{
 "cells": [
  {
   "cell_type": "code",
   "execution_count": 1,
   "metadata": {
    "ExecuteTime": {
     "end_time": "2023-09-21T07:55:31.543195894Z",
     "start_time": "2023-09-21T07:55:28.934899725Z"
    }
   },
   "outputs": [
    {
     "name": "stdout",
     "output_type": "stream",
     "text": [
      "Requirement already satisfied: h5py in /home/antonio/NetMOB23/ST-ResNet/venv/lib/python3.10/site-packages (3.9.0)\r\n",
      "Requirement already satisfied: numpy>=1.17.3 in /home/antonio/NetMOB23/ST-ResNet/venv/lib/python3.10/site-packages (from h5py) (1.23.5)\r\n",
      "Requirement already satisfied: matplotlib in /home/antonio/NetMOB23/ST-ResNet/venv/lib/python3.10/site-packages (3.7.2)\r\n",
      "Requirement already satisfied: pyparsing<3.1,>=2.3.1 in /home/antonio/NetMOB23/ST-ResNet/venv/lib/python3.10/site-packages (from matplotlib) (3.0.9)\r\n",
      "Requirement already satisfied: packaging>=20.0 in /home/antonio/NetMOB23/ST-ResNet/venv/lib/python3.10/site-packages (from matplotlib) (21.3)\r\n",
      "Requirement already satisfied: fonttools>=4.22.0 in /home/antonio/NetMOB23/ST-ResNet/venv/lib/python3.10/site-packages (from matplotlib) (4.42.1)\r\n",
      "Requirement already satisfied: kiwisolver>=1.0.1 in /home/antonio/NetMOB23/ST-ResNet/venv/lib/python3.10/site-packages (from matplotlib) (1.4.5)\r\n",
      "Requirement already satisfied: numpy>=1.20 in /home/antonio/NetMOB23/ST-ResNet/venv/lib/python3.10/site-packages (from matplotlib) (1.23.5)\r\n",
      "Requirement already satisfied: pillow>=6.2.0 in /home/antonio/NetMOB23/ST-ResNet/venv/lib/python3.10/site-packages (from matplotlib) (10.0.0)\r\n",
      "Requirement already satisfied: python-dateutil>=2.7 in /home/antonio/NetMOB23/ST-ResNet/venv/lib/python3.10/site-packages (from matplotlib) (2.8.2)\r\n",
      "Requirement already satisfied: cycler>=0.10 in /home/antonio/NetMOB23/ST-ResNet/venv/lib/python3.10/site-packages (from matplotlib) (0.11.0)\r\n",
      "Requirement already satisfied: contourpy>=1.0.1 in /home/antonio/NetMOB23/ST-ResNet/venv/lib/python3.10/site-packages (from matplotlib) (1.1.0)\r\n",
      "Requirement already satisfied: six>=1.5 in /home/antonio/NetMOB23/ST-ResNet/venv/lib/python3.10/site-packages (from python-dateutil>=2.7->matplotlib) (1.16.0)\r\n"
     ]
    }
   ],
   "source": [
    "import numpy as np\n",
    "! pip install h5py\n",
    "! pip install matplotlib\n"
   ]
  },
  {
   "cell_type": "code",
   "execution_count": 7,
   "metadata": {
    "ExecuteTime": {
     "end_time": "2023-09-21T08:00:44.379488269Z",
     "start_time": "2023-09-21T08:00:44.355662910Z"
    }
   },
   "outputs": [
    {
     "name": "stdout",
     "output_type": "stream",
     "text": [
      "<KeysViewHDF5 ['Temperature', 'Weather', 'WindSpeed', 'date']>\n",
      "Temperature (59006,)\n",
      "Weather (59006, 17)\n",
      "WindSpeed (59006,)\n",
      "date (59006,)\n"
     ]
    }
   ],
   "source": [
    "import h5py\n",
    "import matplotlib.pyplot as plt\n",
    "import numpy as np\n",
    "f = h5py.File('/home/antonio/NetMOB23/ST-ResNet/datasets/TaxiBJ/BJ_Meteorology.h5')\n",
    "print(f.keys())\n",
    "ls = []\n",
    "for key, arr in f.items():\n",
    "    print(key, arr.shape)\n",
    "    ls.append(np.array(arr))"
   ]
  },
  {
   "cell_type": "code",
   "execution_count": null,
   "metadata": {},
   "outputs": [],
   "source": []
  }
 ],
 "metadata": {
  "kernelspec": {
   "display_name": ".venv",
   "language": "python",
   "name": "python3"
  },
  "language_info": {
   "codemirror_mode": {
    "name": "ipython",
    "version": 3
   },
   "file_extension": ".py",
   "mimetype": "text/x-python",
   "name": "python",
   "nbconvert_exporter": "python",
   "pygments_lexer": "ipython3",
   "version": "3.10.12"
  },
  "orig_nbformat": 4
 },
 "nbformat": 4,
 "nbformat_minor": 2
}
