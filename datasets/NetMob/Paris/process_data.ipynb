{
 "cells": [
  {
   "cell_type": "code",
   "execution_count": 2,
   "metadata": {},
   "outputs": [],
   "source": [
    "import numpy as np\n",
    "\n",
    "# Load .npy file\n",
    "file_path = \"Paris_Instagram_TrafficMapSeries_20190316_20190531.npy\"\n",
    "\n",
    "with open('Paris_Instagram_TrafficMapSeries_20190316_20190531.npy', 'rb') as f:\n",
    "        tensor_traffic_original = np.load(f)\n",
    "\n",
    "cdims=[409,346]\n",
    "\n",
    "# Group tiles to create 1km x 1km macro-tiles (each macro_tile contains 10 cells)\n",
    "pad_x = 10 - cdims[0] % 10\n",
    "pad_y = 10 - cdims[1] % 10\n",
    "\n",
    "tensor_traffic_original = np.pad(tensor_traffic_original, ((0,0), (0,pad_x),(0,pad_y)), 'constant', constant_values = 0)\n",
    "tensor_traffic = tensor_traffic_original.reshape(tensor_traffic_original.shape[0], int((cdims[0] + pad_x) / 10),\n",
    "                                        10, int((cdims[1] + pad_y) / 10), 10).sum(axis=(2, 4))"
   ]
  },
  {
   "cell_type": "markdown",
   "metadata": {},
   "source": [
    "Reshape the Data from (1848, 41, 35) to (1848, 2, 41, 35)"
   ]
  },
  {
   "cell_type": "code",
   "execution_count": 12,
   "metadata": {},
   "outputs": [
    {
     "data": {
      "text/plain": [
       "(1848, 41, 35)"
      ]
     },
     "metadata": {},
     "output_type": "display_data"
    },
    {
     "data": {
      "text/plain": [
       "(1848, 2, 41, 35)"
      ]
     },
     "metadata": {},
     "output_type": "display_data"
    }
   ],
   "source": [
    "display(tensor_traffic.shape)\n",
    "\n",
    "tensor_traffic_reshape = np.reshape(tensor_traffic, (1848, 1, 41, 35))\n",
    "\n",
    "tensor_traffic_reshape_2 = np.concatenate((tensor_traffic_reshape, tensor_traffic_reshape), axis=1)\n",
    "#tensor_traffic_reshape_2=tensor_traffic_reshape\n",
    "#tensor_traffic_reshape_2 = tensor_traffic\n",
    "\n",
    "display(tensor_traffic_reshape_2.shape)\n",
    "\n"
   ]
  },
  {
   "cell_type": "markdown",
   "metadata": {},
   "source": [
    "import a dataset to extract the time date_arr and take the first 1848 elements same dimensionality of the network dataset"
   ]
  },
  {
   "cell_type": "code",
   "execution_count": 13,
   "metadata": {},
   "outputs": [
    {
     "name": "stdout",
     "output_type": "stream",
     "text": [
      "data (4392, 2, 16, 8)\n",
      "date (4392,)\n"
     ]
    }
   ],
   "source": [
    "\n",
    "import h5py\n",
    "f = h5py.File('../../BikeNYC/NYC14_M16x8_T60_NewEnd.h5')\n",
    "for ke in f.keys():\n",
    "    print(ke, f[ke].shape)\n",
    "\n",
    "date_arr = np.array(f['date'][:1848])\n",
    "\n",
    "data_arr_b = np.array(f['data'])\n",
    "date_arr_b = np.array(f['date'])"
   ]
  },
  {
   "cell_type": "markdown",
   "metadata": {},
   "source": [
    "merge the 2 dataset and save it in h5 format"
   ]
  },
  {
   "cell_type": "code",
   "execution_count": 14,
   "metadata": {},
   "outputs": [
    {
     "name": "stdout",
     "output_type": "stream",
     "text": [
      "data (1848, 2, 41, 35)\n",
      "date (1848,)\n"
     ]
    }
   ],
   "source": [
    "import h5py\n",
    "# Create an h5py file\n",
    "with h5py.File('Paris_Instagram_TrafficMapSeries_20190316_20190531_REDUCED.h5', 'w') as hf:\n",
    "    # Create a dataset inside the file\n",
    "    hf.create_dataset('data', data=tensor_traffic_reshape_2)\n",
    "    hf.create_dataset('date', data=date_arr)\n",
    "    \n",
    "    \n",
    "f = h5py.File('Paris_Instagram_TrafficMapSeries_20190316_20190531_REDUCED.h5')\n",
    "for ke in f.keys():\n",
    "    print(ke, f[ke].shape)\n",
    "    \n",
    "data_arr = np.array(f['data'])\n",
    "date_arr = np.array(f['date'])"
   ]
  }
 ],
 "metadata": {
  "kernelspec": {
   "display_name": "venv",
   "language": "python",
   "name": "python3"
  },
  "language_info": {
   "codemirror_mode": {
    "name": "ipython",
    "version": 3
   },
   "file_extension": ".py",
   "mimetype": "text/x-python",
   "name": "python",
   "nbconvert_exporter": "python",
   "pygments_lexer": "ipython3",
   "version": "3.10.0"
  },
  "orig_nbformat": 4
 },
 "nbformat": 4,
 "nbformat_minor": 2
}
