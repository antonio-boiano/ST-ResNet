{
 "cells": [
  {
   "cell_type": "code",
   "execution_count": 2,
   "outputs": [
    {
     "name": "stdout",
     "output_type": "stream",
     "text": [
      "data (1848, 1, 41, 35)\n",
      "date (1848,)\n"
     ]
    }
   ],
   "source": [
    "import h5py\n",
    "import numpy as np\n",
    "import pandas as pd\n",
    "\n",
    "f = h5py.File('/home/antonio/NetMOB23/ST-ResNet/datasets/NetMob/Paris/Paris_Instagram_TrafficMapSeries_20190316_20190531_REDUCED_CORRECT.h5')\n",
    "for ke in f.keys():\n",
    "    print(ke, f[ke].shape)\n",
    "    \n",
    "data_arr_b = np.array(f['data'])\n",
    "date_arr_b = np.array(f['date'])\n",
    "\n",
    "f.close()"
   ],
   "metadata": {
    "collapsed": false,
    "ExecuteTime": {
     "end_time": "2023-09-21T08:22:45.984467577Z",
     "start_time": "2023-09-21T08:22:45.745069977Z"
    }
   }
  },
  {
   "cell_type": "code",
   "execution_count": 7,
   "outputs": [
    {
     "data": {
      "text/plain": "   IsWeekEnd  Event_Flag  Paris Saint Germain  Barcelona  Liverpool  \\\n0        1.0         0.0                  0.0        0.0        0.0   \n1        1.0         0.0                  0.0        0.0        0.0   \n2        1.0         0.0                  0.0        0.0        0.0   \n3        1.0         0.0                  0.0        0.0        0.0   \n4        1.0         0.0                  0.0        0.0        0.0   \n\n   Manchester City  Juventus  Manchester United  Marseille  Lille  Lyon  \\\n0              0.0       0.0                0.0        0.0    0.0   0.0   \n1              0.0       0.0                0.0        0.0    0.0   0.0   \n2              0.0       0.0                0.0        0.0    0.0   0.0   \n3              0.0       0.0                0.0        0.0    0.0   0.0   \n4              0.0       0.0                0.0        0.0    0.0   0.0   \n\n   Saint Etienne  Nice  Bordeaux  Monaco  \n0            0.0   0.0       0.0     0.0  \n1            0.0   0.0       0.0     0.0  \n2            0.0   0.0       0.0     0.0  \n3            0.0   0.0       0.0     0.0  \n4            0.0   0.0       0.0     0.0  ",
      "text/html": "<div>\n<style scoped>\n    .dataframe tbody tr th:only-of-type {\n        vertical-align: middle;\n    }\n\n    .dataframe tbody tr th {\n        vertical-align: top;\n    }\n\n    .dataframe thead th {\n        text-align: right;\n    }\n</style>\n<table border=\"1\" class=\"dataframe\">\n  <thead>\n    <tr style=\"text-align: right;\">\n      <th></th>\n      <th>IsWeekEnd</th>\n      <th>Event_Flag</th>\n      <th>Paris Saint Germain</th>\n      <th>Barcelona</th>\n      <th>Liverpool</th>\n      <th>Manchester City</th>\n      <th>Juventus</th>\n      <th>Manchester United</th>\n      <th>Marseille</th>\n      <th>Lille</th>\n      <th>Lyon</th>\n      <th>Saint Etienne</th>\n      <th>Nice</th>\n      <th>Bordeaux</th>\n      <th>Monaco</th>\n    </tr>\n  </thead>\n  <tbody>\n    <tr>\n      <th>0</th>\n      <td>1.0</td>\n      <td>0.0</td>\n      <td>0.0</td>\n      <td>0.0</td>\n      <td>0.0</td>\n      <td>0.0</td>\n      <td>0.0</td>\n      <td>0.0</td>\n      <td>0.0</td>\n      <td>0.0</td>\n      <td>0.0</td>\n      <td>0.0</td>\n      <td>0.0</td>\n      <td>0.0</td>\n      <td>0.0</td>\n    </tr>\n    <tr>\n      <th>1</th>\n      <td>1.0</td>\n      <td>0.0</td>\n      <td>0.0</td>\n      <td>0.0</td>\n      <td>0.0</td>\n      <td>0.0</td>\n      <td>0.0</td>\n      <td>0.0</td>\n      <td>0.0</td>\n      <td>0.0</td>\n      <td>0.0</td>\n      <td>0.0</td>\n      <td>0.0</td>\n      <td>0.0</td>\n      <td>0.0</td>\n    </tr>\n    <tr>\n      <th>2</th>\n      <td>1.0</td>\n      <td>0.0</td>\n      <td>0.0</td>\n      <td>0.0</td>\n      <td>0.0</td>\n      <td>0.0</td>\n      <td>0.0</td>\n      <td>0.0</td>\n      <td>0.0</td>\n      <td>0.0</td>\n      <td>0.0</td>\n      <td>0.0</td>\n      <td>0.0</td>\n      <td>0.0</td>\n      <td>0.0</td>\n    </tr>\n    <tr>\n      <th>3</th>\n      <td>1.0</td>\n      <td>0.0</td>\n      <td>0.0</td>\n      <td>0.0</td>\n      <td>0.0</td>\n      <td>0.0</td>\n      <td>0.0</td>\n      <td>0.0</td>\n      <td>0.0</td>\n      <td>0.0</td>\n      <td>0.0</td>\n      <td>0.0</td>\n      <td>0.0</td>\n      <td>0.0</td>\n      <td>0.0</td>\n    </tr>\n    <tr>\n      <th>4</th>\n      <td>1.0</td>\n      <td>0.0</td>\n      <td>0.0</td>\n      <td>0.0</td>\n      <td>0.0</td>\n      <td>0.0</td>\n      <td>0.0</td>\n      <td>0.0</td>\n      <td>0.0</td>\n      <td>0.0</td>\n      <td>0.0</td>\n      <td>0.0</td>\n      <td>0.0</td>\n      <td>0.0</td>\n      <td>0.0</td>\n    </tr>\n  </tbody>\n</table>\n</div>"
     },
     "execution_count": 7,
     "metadata": {},
     "output_type": "execute_result"
    }
   ],
   "source": [
    "import pandas as pd\n",
    "events = pd.read_csv('/home/antonio/NetMOB23/ST-ResNet/datasets/NetMob/Paris/Covariates_Football_Weekly.csv')\n",
    "\n",
    "\n",
    "events_only = events.drop(['time','Hour','WeekDay','Year'], axis=1)\n",
    "\n",
    "events_only.head()\n"
   ],
   "metadata": {
    "collapsed": false,
    "ExecuteTime": {
     "end_time": "2023-09-21T08:28:06.175195059Z",
     "start_time": "2023-09-21T08:28:06.129263099Z"
    }
   }
  },
  {
   "cell_type": "code",
   "execution_count": 8,
   "outputs": [],
   "source": [
    "with h5py.File('Paris_Events.h5', 'w') as hf:\n",
    "    for key,val in events_only.items():\n",
    "        hf.create_dataset(key, data=val)\n"
   ],
   "metadata": {
    "collapsed": false,
    "ExecuteTime": {
     "end_time": "2023-09-21T08:28:58.994843199Z",
     "start_time": "2023-09-21T08:28:58.952156797Z"
    }
   }
  },
  {
   "cell_type": "code",
   "execution_count": 12,
   "outputs": [
    {
     "ename": "SyntaxError",
     "evalue": "invalid syntax (3339682263.py, line 1)",
     "output_type": "error",
     "traceback": [
      "\u001B[0;36m  Cell \u001B[0;32mIn[12], line 1\u001B[0;36m\u001B[0m\n\u001B[0;31m    from jours-feries-france.compute import JoursFeries\u001B[0m\n\u001B[0m              ^\u001B[0m\n\u001B[0;31mSyntaxError\u001B[0m\u001B[0;31m:\u001B[0m invalid syntax\n"
     ]
    }
   ],
   "source": [
    "from jours-feries-france.compute import JoursFeries\n",
    "res = JoursFeries.for_year(2018)"
   ],
   "metadata": {
    "collapsed": false,
    "ExecuteTime": {
     "end_time": "2023-09-21T08:35:40.830514124Z",
     "start_time": "2023-09-21T08:35:40.789557998Z"
    }
   }
  },
  {
   "cell_type": "code",
   "execution_count": 11,
   "outputs": [
    {
     "name": "stdout",
     "output_type": "stream",
     "text": [
      "Requirement already satisfied: jours-feries-france in /home/antonio/NetMOB23/ST-ResNet/venv/lib/python3.10/site-packages (0.7.0)\r\n"
     ]
    }
   ],
   "source": [
    "! pip3 install jours-feries-france"
   ],
   "metadata": {
    "collapsed": false,
    "ExecuteTime": {
     "end_time": "2023-09-21T08:35:20.708459514Z",
     "start_time": "2023-09-21T08:35:19.373006083Z"
    }
   }
  },
  {
   "cell_type": "code",
   "execution_count": null,
   "outputs": [],
   "source": [],
   "metadata": {
    "collapsed": false
   }
  }
 ],
 "metadata": {
  "kernelspec": {
   "display_name": "venv",
   "language": "python",
   "name": "python3"
  },
  "language_info": {
   "codemirror_mode": {
    "name": "ipython",
    "version": 3
   },
   "file_extension": ".py",
   "mimetype": "text/x-python",
   "name": "python",
   "nbconvert_exporter": "python",
   "pygments_lexer": "ipython3",
   "version": "3.10.12"
  },
  "orig_nbformat": 4
 },
 "nbformat": 4,
 "nbformat_minor": 2
}
