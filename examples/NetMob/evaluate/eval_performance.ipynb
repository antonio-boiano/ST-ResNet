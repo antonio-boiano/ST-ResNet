{
 "cells": [
  {
   "cell_type": "code",
   "execution_count": 1,
   "outputs": [],
   "source": [
    "%matplotlib tk"
   ],
   "metadata": {
    "collapsed": false,
    "ExecuteTime": {
     "end_time": "2023-09-18T08:33:34.208285940Z",
     "start_time": "2023-09-18T08:33:33.681124936Z"
    }
   },
   "id": "84749e9dbd69bbbe"
  },
  {
   "cell_type": "code",
   "execution_count": 2,
   "outputs": [],
   "source": [
    "import pickle\n",
    "import numpy as np\n",
    "import pandas as pd\n",
    "import matplotlib\n",
    "matplotlib.use('TkAgg')\n",
    "import matplotlib.pyplot as plt\n",
    "\n",
    "COORD = 18\n",
    "fodler = 'L4-C3-P1-T1'\n",
    "#fodler = 'L12-C12-P4-T4'\n",
    "# Load the data\n",
    "pickle_path = '../'+fodler+'/'\n",
    "with open(pickle_path+'objs.pkl', 'rb') as file:\n",
    "    # Load the pickled data from the file\n",
    "    data = pickle.load(file)\n",
    "pred = data[0]\n",
    "orig = data[1]"
   ],
   "metadata": {
    "collapsed": false,
    "ExecuteTime": {
     "end_time": "2023-09-18T08:33:35.330176373Z",
     "start_time": "2023-09-18T08:33:35.013932064Z"
    }
   },
   "id": "initial_id"
  },
  {
   "cell_type": "code",
   "execution_count": 4,
   "outputs": [],
   "source": [
    "import matplotlib.pyplot as plt\n",
    "plt.plot(pred[:,0,COORD,COORD], 'g', label='pred')\n",
    "plt.plot(orig[:,COORD,COORD], 'orange', label='orig')\n",
    "plt.legend()\n",
    "plt.show()"
   ],
   "metadata": {
    "collapsed": false,
    "ExecuteTime": {
     "end_time": "2023-09-15T15:10:08.802020727Z",
     "start_time": "2023-09-15T15:10:08.579917845Z"
    }
   },
   "id": "690fef69a0c54305"
  },
  {
   "cell_type": "code",
   "execution_count": 48,
   "outputs": [
    {
     "name": "stdout",
     "output_type": "stream",
     "text": [
      "Loss on a Cell:0.27567005\n",
      "Normalized Loss on a Cell:2.0969138\n"
     ]
    }
   ],
   "source": [
    "print('Loss on a Cell:'+str(np.sqrt(np.mean((pred[:,0,COORD,COORD]-orig[:,COORD,COORD])**2))))\n",
    "\n",
    "max = np.max(orig[:,COORD,COORD])\n",
    "min = np.min(orig[:,COORD,COORD])\n",
    "\n",
    "pred_norm = (pred[:,0,COORD,COORD]-min) / (max-min)\n",
    "orig_norm = (orig[:,COORD,COORD]-min) / (max-min)\n",
    "print('Normalized Loss on a Cell:'+str(np.sqrt(np.mean((pred_norm-orig_norm)**2))))"
   ],
   "metadata": {
    "collapsed": false,
    "ExecuteTime": {
     "end_time": "2023-09-12T14:11:16.336779298Z",
     "start_time": "2023-09-12T14:11:16.326062203Z"
    }
   },
   "id": "8f4a9cc85ba21b3e"
  },
  {
   "cell_type": "code",
   "execution_count": 49,
   "outputs": [],
   "source": [
    "from matplotlib.colors import Normalize\n",
    "# Define the color range\n",
    "vmin, vmax = -1, -0.6\n",
    "# Create a Normalize object to map the colors\n",
    "norm = Normalize(vmin=vmin, vmax=vmax)\n",
    "fig1 = plt.figure()\n",
    "plt.imshow(pred[10,0,:,:], cmap='viridis', norm=norm)\n",
    "plt.colorbar()\n",
    "\n",
    "fig2 = plt.figure()\n",
    "plt.imshow(orig[10,:,:], cmap='viridis', norm=norm)\n",
    "plt.colorbar()\n",
    "\n",
    "\n",
    "plt.show()"
   ],
   "metadata": {
    "collapsed": false,
    "ExecuteTime": {
     "end_time": "2023-09-12T14:11:24.114934098Z",
     "start_time": "2023-09-12T14:11:23.836137947Z"
    }
   },
   "id": "f3bbaba8653a94d9"
  },
  {
   "cell_type": "code",
   "execution_count": 50,
   "outputs": [
    {
     "name": "stdout",
     "output_type": "stream",
     "text": [
      "Overall Loss:0.17989112\n",
      "Overall Normalized Loss:0.1187416\n"
     ]
    }
   ],
   "source": [
    "orig_flat = orig.flatten()\n",
    "pred_flat = pred[:,0,:,:].flatten()\n",
    "\n",
    "mask = (orig_flat != -1)\n",
    "\n",
    "orig_flat = orig_flat[mask]\n",
    "pred_flat = pred_flat[mask]\n",
    "\n",
    "print('Overall Loss:'+str(np.sqrt(np.mean((orig_flat-pred_flat)**2))))\n",
    "\n",
    "max = np.max(orig_flat)\n",
    "min = np.min(orig_flat)\n",
    "\n",
    "pred_norm = (orig_flat-min) / (max-min)\n",
    "orig_norm = (pred_flat-min) / (max-min)\n",
    "\n",
    "print('Overall Normalized Loss:'+str(np.sqrt(np.mean((pred_norm-orig_norm)**2))))"
   ],
   "metadata": {
    "collapsed": false,
    "ExecuteTime": {
     "end_time": "2023-09-12T14:11:29.192860215Z",
     "start_time": "2023-09-12T14:11:29.168610461Z"
    }
   },
   "id": "37c6acac823251d2"
  },
  {
   "cell_type": "code",
   "execution_count": 3,
   "outputs": [
    {
     "data": {
      "text/plain": "[<matplotlib.lines.Line2D at 0x7fe3d37aa0e0>]"
     },
     "execution_count": 3,
     "metadata": {},
     "output_type": "execute_result"
    }
   ],
   "source": [
    "prd = pred[:,0,COORD,COORD]\n",
    "org = orig[:,COORD,COORD]\n",
    "\n",
    "mask = (org != -1)\n",
    "\n",
    "prd = prd[mask]\n",
    "org = org[mask]\n",
    "\n",
    "rel_diff = (prd-org)/org\n",
    "\n",
    "plt.plot(rel_diff, 'g', label='rel diff')\n"
   ],
   "metadata": {
    "collapsed": false,
    "ExecuteTime": {
     "end_time": "2023-09-18T08:33:39.001768489Z",
     "start_time": "2023-09-18T08:33:38.849823878Z"
    }
   },
   "id": "93bdb57eca3f3e45"
  },
  {
   "cell_type": "code",
   "execution_count": 10,
   "outputs": [],
   "source": [
    "import numpy as np\n",
    "import matplotlib.pyplot as plt\n",
    "\n",
    "prd = pred[:,0,COORD,COORD]\n",
    "org = orig[:,COORD,COORD]\n",
    "\n",
    "mask = (org != -1)\n",
    "\n",
    "prd = prd[mask]\n",
    "org = org[mask]\n",
    "\n",
    "rel_diff = (prd-org)/org\n",
    "\n",
    "\n",
    "samples = rel_diff\n",
    "mean = np.mean(samples)\n",
    "std_dev = np.std(samples)\n",
    "\n",
    "\n",
    "# Plot the histogram with the PDF\n",
    "plt.hist(samples, bins=30, density=True, alpha=0.5, label='Histogram')\n",
    "plt.xlabel('Value')\n",
    "plt.ylabel('Probability Density')\n",
    "plt.title('PDF of a Normal Distribution')\n",
    "plt.grid(True)\n",
    "\n",
    "# Plot the PDF\n",
    "x = np.linspace(-4, 4, 100)\n",
    "y = (1 / (std_dev * np.sqrt(2 * np.pi))) * np.exp(-0.5 * ((x - mean) / std_dev) ** 2)\n",
    "plt.plot(x, y, color='red', label='PDF')\n",
    "\n",
    "plt.legend()\n",
    "plt.show()"
   ],
   "metadata": {
    "collapsed": false,
    "ExecuteTime": {
     "end_time": "2023-09-18T08:42:28.868633413Z",
     "start_time": "2023-09-18T08:42:28.769443442Z"
    }
   },
   "id": "2c5cfa59c94bc6a"
  },
  {
   "cell_type": "code",
   "execution_count": 12,
   "outputs": [],
   "source": [
    "import numpy as np\n",
    "import matplotlib.pyplot as plt\n",
    "from scipy.integrate import quad\n",
    "\n",
    "prd = pred[:,0,COORD,COORD]\n",
    "org = orig[:,COORD,COORD]\n",
    "\n",
    "mask = (org != -1)\n",
    "\n",
    "prd = prd[mask]\n",
    "org = org[mask]\n",
    "\n",
    "rel_diff = (prd-org)/org\n",
    "\n",
    "pdf = (1 / (std_dev * np.sqrt(2 * np.pi))) * np.exp(-0.5 * ((x - mean) / std_dev) ** 2)\n",
    "x = np.linspace(-4, 4, 100)\n",
    "cdf = np.cumsum(pdf) * (x[1] - x[0])\n",
    "\n",
    "# Plot the PDF and CDF\n",
    "plt.plot(x, pdf, label='PDF')\n",
    "plt.plot(x, cdf, label='CDF')\n",
    "plt.xlabel('x')\n",
    "plt.ylabel('Probability')\n",
    "plt.legend()\n",
    "plt.title('PDF and CDF of pdf_pippo')\n",
    "plt.show()\n"
   ],
   "metadata": {
    "collapsed": false,
    "ExecuteTime": {
     "end_time": "2023-09-18T08:47:38.326792976Z",
     "start_time": "2023-09-18T08:47:38.251202780Z"
    }
   },
   "id": "67480063d42a3a5e"
  },
  {
   "cell_type": "code",
   "execution_count": null,
   "outputs": [],
   "source": [],
   "metadata": {
    "collapsed": false
   },
   "id": "e91b222f1efcd585"
  }
 ],
 "metadata": {
  "kernelspec": {
   "display_name": "Python 3",
   "language": "python",
   "name": "python3"
  },
  "language_info": {
   "codemirror_mode": {
    "name": "ipython",
    "version": 2
   },
   "file_extension": ".py",
   "mimetype": "text/x-python",
   "name": "python",
   "nbconvert_exporter": "python",
   "pygments_lexer": "ipython2",
   "version": "2.7.6"
  }
 },
 "nbformat": 4,
 "nbformat_minor": 5
}
